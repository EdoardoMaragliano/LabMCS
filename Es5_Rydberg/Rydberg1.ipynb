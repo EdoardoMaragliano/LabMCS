{
 "cells": [
  {
   "cell_type": "markdown",
   "metadata": {},
   "source": [
    "# MC simulation: fit of the Rydberg constant\n",
    "\n",
    "## 🧠 Theoretical Background: The Rydberg Constant\n",
    "\n",
    "The **Rydberg constant** $R_H$ is a fundamental physical constant that describes the wavelengths of spectral lines in hydrogen and hydrogen-like atoms. It appears in the **Rydberg formula**, which gives the inverse of the wavelength $\\lambda$ of emitted or absorbed light as an electron transitions between energy levels:\n",
    "\n",
    "$\n",
    "\\frac{1}{\\lambda} = R_H \\left( \\frac{1}{n_1^2} - \\frac{1}{n_2^2} \\right)\n",
    "$\n",
    "\n",
    "where:\n",
    "- $ \\lambda $ is the wavelength of the spectral line,\n",
    "- $ n_1 $ and $ n_2 $ are the principal quantum numbers of the energy levels involved ($ n_2 > n_1 $),\n",
    "- $ R_H $ is the Rydberg constant for hydrogen.\n",
    "\n",
    "### Value and Importance\n",
    "The currently accepted CODATA value is:\n",
    "\n",
    "$\n",
    "R_H \\approx 1.0967757 \\times 10^7 \\, \\text{m}^{-1}\n",
    "$\n",
    "\n",
    "This constant is central to atomic physics and quantum mechanics, as it encapsulates the binding energy structure of hydrogen.\n",
    "\n",
    "In this notebook, we estimate $ R_H $ by inverting the Rydberg formula using measured wavelengths for the Balmer series (H-alpha and H-beta) and the parameters A and B previously obtained from diffraction measurements.\n"
   ]
  },
  {
   "cell_type": "code",
   "execution_count": 1,
   "metadata": {},
   "outputs": [
    {
     "name": "stdout",
     "output_type": "stream",
     "text": [
      "Welcome to JupyROOT 6.28/04\n"
     ]
    }
   ],
   "source": [
    "import ROOT\n",
    "from math import *\n",
    "import numpy as np\n",
    "import time"
   ]
  },
  {
   "cell_type": "code",
   "execution_count": 2,
   "metadata": {},
   "outputs": [],
   "source": [
    "#%jsroot on"
   ]
  },
  {
   "cell_type": "markdown",
   "metadata": {},
   "source": [
    "## 📘 Part 1: Monte Carlo Estimation of A and B\n",
    "\n",
    "This notebook computes the parameters **A** and **B** from measured diffraction angles of the H-alpha and H-beta lines. It uses Monte Carlo sampling to simulate measurement uncertainties on the angles and propagate them into the estimation of A and B.\n",
    "\n",
    "- **Aims**\n",
    "  - Measure the A and B parameters modeling the dependence of the refraction index on the wavelength, according to Cauchy relation\n",
    "  $n(\\lambda) = A + \\frac{B}{\\lambda^2} + O(\\frac{1}{\\lambda^3})$.\n",
    "\n",
    "  For a given material, measuring the refraction index at two different wavelengths one can obtain the A and B coefficients.\n",
    "  \n",
    "  $A = n_2 - \\lambda_1^2 \\frac{n_1 - n_2}{\\lambda_2^2 - \\lambda_1^2}$\n",
    "\n",
    "  $B = \\frac{(n_1 - n_2) \\lambda_1^2 \\lambda_2^2}{\\lambda_2^2 - \\lambda_1^2}$\n",
    "\n",
    "  The refracion index are obtained measuring the refraction angles at different wavelengths, as follows\n",
    "  \n",
    "  $n_i = n(\\theta_i) = \\frac{\\sin\\left(\\frac{\\theta_i - \\theta_0 + \\alpha}{2}\\right)}{\\sin\\left(\\frac{\\alpha}{2}\\right)}$\n",
    "\n",
    "  for measured angles $\\theta_1\\equiv\\theta(\\lambda_1), \\theta_2\\equiv\\theta(\\lambda_2)$ and the prism angle $\\alpha$.\n",
    "\n",
    "  We also aim to propagate the uncertainties on the measured angles to these A and B parameters.\n",
    "\n",
    "- **Inputs**:\n",
    "  - Known wavelengths: $\\lambda_a$ (656.3 nm, H $\\alpha$), $\\lambda_b$ (486.1 nm, H $\\beta$)\n",
    "  - Angular measurements: $\\theta_1$, $\\theta_2$, and their uncertainty\n",
    "\n",
    "  - Grating spacing: d\n",
    "  - Prism angle: $\\alpha$\n",
    "\n",
    "- **Outputs**:\n",
    "  - Distributions of A and B from the Monte Carlo simulation\n",
    "  - Mean values and standard deviations\n",
    "  - Plots and ROOT file for further analysis"
   ]
  },
  {
   "cell_type": "code",
   "execution_count": 3,
   "metadata": {},
   "outputs": [],
   "source": [
    "# Parameters and measurements\n",
    "lambda1 = 579.1         # Wavelengths in nm\n",
    "lambda2 = 404.7         # Wavelengths in nm\n",
    "alpha = pi/3            # prism angle\n",
    "\n",
    "# diffraction angles\n",
    "th0 = 1.5701            \n",
    "th1 = 2.6958\n",
    "th2 = 2.7904\n",
    "\n",
    "# error on the diffraction angles\n",
    "eth = 0.0005\n",
    "\n",
    "# statistical error on the diffraction angles\n",
    "sigmath = eth/sqrt(3)\n",
    "\n",
    "# Number of iterations in the Monte Carlo\n",
    "nsteps = 20000  "
   ]
  },
  {
   "cell_type": "code",
   "execution_count": 4,
   "metadata": {},
   "outputs": [],
   "source": [
    "# Functions\n",
    "def GetAB(th0, th1, th2):\n",
    "    delta1 = th1 - th0\n",
    "    delta2 = th2 - th0\n",
    "    n1 = sin((delta1 + alpha)/2)/sin(alpha/2)\n",
    "    n2 = sin((delta2 + alpha)/2)/sin(alpha/2)\n",
    "    A = n2 - lambda1**2 * (n1 - n2) / (lambda2**2 - lambda1**2)\n",
    "    B = (n1 - n2) * lambda1**2 * lambda2**2 / (lambda2**2 - lambda1**2)\n",
    "    v = np.array([A, B])\n",
    "    return v\n",
    "\n",
    "def getLambda(theta, th0, A, B):\n",
    "    \"\"\"\n",
    "    Parameters\n",
    "    ----------\n",
    "    theta : float\n",
    "        Diffraction angle in radians.\n",
    "    th0 : float\n",
    "        Zero order diffraction angle in radians.\n",
    "    A : float\n",
    "        Coefficient A from the dispersion relation.\n",
    "    B : float\n",
    "        Coefficient B from the dispersion relation.\n",
    "    Returns\n",
    "    -------\n",
    "    wavelengths : float\n",
    "        Calculated wavelength in nm.\n",
    "    \"\"\"\n",
    "    n = sin((theta - th0 + alpha)/2)/sin(alpha/2)\n",
    "    wavelengths = sqrt(B/(n - A))\n",
    "    \n",
    "    return wavelengths"
   ]
  },
  {
   "cell_type": "code",
   "execution_count": 5,
   "metadata": {},
   "outputs": [
    {
     "name": "stdout",
     "output_type": "stream",
     "text": [
      "A =  1.7298151476003434\n",
      "B =  13462.137256845486\n"
     ]
    }
   ],
   "source": [
    "# Main\n",
    "[A, B] = GetAB(th0, th1, th2)\n",
    "print('A = ', A)\n",
    "print('B = ', B)\n"
   ]
  },
  {
   "cell_type": "code",
   "execution_count": 6,
   "metadata": {},
   "outputs": [],
   "source": [
    "# Calculate errors with variations in independent variables\n",
    "e1 = GetAB(th0 + sigmath, th1, th2) - GetAB(th0, th1, th2)\n",
    "e2 = GetAB(th0, th1 + sigmath, th2) - GetAB(th0, th1, th2)\n",
    "e3 = GetAB(th0, th1, th2 + sigmath) - GetAB(th0, th1, th2)\n",
    "eA = sqrt(e1[0]**2 + e2[0]**2 + e3[0]**2)\n",
    "eB = sqrt(e1[1]**2 + e2[1]**2 + e3[1]**2)"
   ]
  },
  {
   "cell_type": "code",
   "execution_count": 7,
   "metadata": {},
   "outputs": [
    {
     "name": "stdout",
     "output_type": "stream",
     "text": [
      "eA =  0.00032241944739872875\n",
      "eB =  58.27445369539057\n"
     ]
    }
   ],
   "source": [
    "print ('eA = ', eA)\n",
    "print ('eB = ', eB)"
   ]
  },
  {
   "cell_type": "code",
   "execution_count": null,
   "metadata": {},
   "outputs": [],
   "source": [
    "# Check the linearity of the function\n",
    "e1 = GetAB(th0 - sigmath, th1, th2) - GetAB(th0, th1, th2)\n",
    "e2 = GetAB(th0, th1 - sigmath, th2) - GetAB(th0, th1, th2)\n",
    "e3 = GetAB(th0, th1, th2 - sigmath) - GetAB(th0, th1, th2)\n",
    "eA = sqrt(e1[0]**2 + e2[0]**2 + e3[0]**2)\n",
    "eB = sqrt(e1[1]**2 + e2[1]**2 + e3[1]**2)"
   ]
  },
  {
   "cell_type": "code",
   "execution_count": 8,
   "metadata": {},
   "outputs": [
    {
     "name": "stdout",
     "output_type": "stream",
     "text": [
      "MonteCarlo based on Gaussian variables. To modify, go to line 77\n"
     ]
    }
   ],
   "source": [
    "# Generate MC data\n",
    "rnd = ROOT.TRandom3()\n",
    "rnd.SetSeed(157346789)\n",
    "\n",
    "distr = 'gaus'\n",
    "print(\"MonteCarlo based on Gaussian variables. To modify, go to line 77\")"
   ]
  },
  {
   "cell_type": "code",
   "execution_count": 9,
   "metadata": {},
   "outputs": [],
   "source": [
    "# Create histograms\n",
    "hA = ROOT.TH1D(\"A \" + distr, \"\", 100, A - 4*eA, A + 4*eA)\n",
    "hB = ROOT.TH1D(\"B \" + distr, \"\", 100, B - 4*eB, B + 4*eB)\n",
    "hCorr = ROOT.TH2D(\"A vs B \" + distr, \"\", 100, A - 4*eA, A + 4*eA, 100, B - 4*eB, B + 4*eB)\n",
    "hDelta = ROOT.TH2D(\"#delta_1 vs #delta_2 \" + distr, \"\", 100, 0, 5, 100, 0, 5)\n",
    "hN = ROOT.TH2D(\"n_1 vs n_2 \" + distr, \"\", 100, 0, 5, 100, 0, 5)"
   ]
  },
  {
   "cell_type": "code",
   "execution_count": 10,
   "metadata": {},
   "outputs": [],
   "source": [
    "# Loop for Monte Carlo iterations\n",
    "for i in range(0, nsteps):\n",
    "    if distr == \"gaus\":\n",
    "        t0 = rnd.Gaus(th0, sigmath)\n",
    "        t1 = rnd.Gaus(th1, sigmath)\n",
    "        t2 = rnd.Gaus(th2, sigmath)\n",
    "    elif distr == \"unif\":\n",
    "        t0 = (2*eth*rnd.Rndm() - eth) + th0\n",
    "        t1 = (2*eth*rnd.Rndm() - eth) + th1\n",
    "        t2 = (2*eth*rnd.Rndm() - eth) + th2\n",
    "\n",
    "    delta1 = t1 - t0\n",
    "    delta2 = t2 - t0\n",
    "\n",
    "    n1 = sin((delta1 + alpha)/2)/sin(alpha/2)\n",
    "    n2 = sin((delta2 + alpha)/2)/sin(alpha/2)\n",
    "\n",
    "    [A, B] = GetAB(t0, t1, t2)\n",
    "    hA.Fill(A)\n",
    "    hB.Fill(B)\n",
    "    hCorr.Fill(A, B)\n",
    "    hDelta.Fill(delta1, delta2)\n",
    "    hN.Fill(n1, n2)"
   ]
  },
  {
   "cell_type": "code",
   "execution_count": 11,
   "metadata": {},
   "outputs": [
    {
     "data": {
      "image/png": "[encoded data removed]",
      "text/plain": [
       "<IPython.core.display.Image object>"
      ]
     },
     "metadata": {},
     "output_type": "display_data"
    },
    {
     "data": {
      "image/png": "[encoded data removed]",
      "text/plain": [
       "<IPython.core.display.Image object>"
      ]
     },
     "metadata": {},
     "output_type": "display_data"
    },
    {
     "data": {
      "image/png": "[encoded data removed]",
      "text/plain": [
       "<IPython.core.display.Image object>"
      ]
     },
     "metadata": {},
     "output_type": "display_data"
    },
    {
     "data": {
      "image/png": "[encoded data removed]",
      "text/plain": [
       "<IPython.core.display.Image object>"
      ]
     },
     "metadata": {},
     "output_type": "display_data"
    }
   ],
   "source": [
    "## draw the plots\n",
    "c1=ROOT.TCanvas()\n",
    "c1.Divide(1,2)\n",
    "c1.cd(1)\n",
    "hA.Draw()\n",
    "c1.cd(2)\n",
    "hB.Draw()\n",
    "c1.Draw()\n",
    "\n",
    "c2=ROOT.TCanvas()\n",
    "hCorr.Draw()\n",
    "c2.Draw()\n",
    "c3=ROOT.TCanvas()\n",
    "hDelta.Draw()\n",
    "c3.Draw()\n",
    "c4=ROOT.TCanvas()\n",
    "hN.Draw()\n",
    "c4.Draw()"
   ]
  },
  {
   "cell_type": "code",
   "execution_count": 12,
   "metadata": {},
   "outputs": [],
   "source": [
    "# Calculating values from histograms\n",
    "meanA = hA.GetMean()\n",
    "sigmaA = hA.GetRMS()\n",
    "meanB = hB.GetMean()\n",
    "sigmaB = hB.GetRMS()\n",
    "corrAB = hCorr.GetCorrelationFactor()\n",
    "corrDelta = hDelta.GetCorrelationFactor()\n",
    "corrN = hN.GetCorrelationFactor()"
   ]
  },
  {
   "cell_type": "code",
   "execution_count": 13,
   "metadata": {},
   "outputs": [
    {
     "name": "stdout",
     "output_type": "stream",
     "text": [
      "\n",
      "\n",
      "Values obtained from Monte Carlo\n",
      "A =  1.7298159702034892 +/- 0.0003229463950358803\n",
      "B =  13462.46224313792 +/- 58.63102610336444\n",
      "Correlation coefficient AB =  -0.8764877608314606\n",
      "\n",
      "\n",
      "Correlation coefficient on delta =  0.4916540947055525\n",
      "Correlation coefficient on n =  0.4916553092565021\n"
     ]
    }
   ],
   "source": [
    "print(\"\\n\")\n",
    "print(\"Values obtained from Monte Carlo\")\n",
    "print(\"A = \", meanA, \"+/-\", sigmaA)\n",
    "print(\"B = \", meanB, \"+/-\", sigmaB)\n",
    "print(\"Correlation coefficient AB = \", corrAB)\n",
    "print(\"\\n\")\n",
    "print(\"Correlation coefficient on delta = \", corrDelta)\n",
    "print(\"Correlation coefficient on n = \", corrN)"
   ]
  },
  {
   "cell_type": "markdown",
   "metadata": {},
   "source": [
    "### Part 2: measure wavelengths using the calibrated A and B\n",
    "\n",
    "For different wavelengths, fit the formula\n",
    "\n",
    "$\n",
    "\\frac{1}{\\lambda} = R_H \\left( \\frac{1}{n_1^2} - \\frac{1}{n_2^2} \\right)\n",
    "$\n",
    "\n",
    "to obtain $R_H$."
   ]
  },
  {
   "cell_type": "code",
   "execution_count": 14,
   "metadata": {},
   "outputs": [
    {
     "name": "stdout",
     "output_type": "stream",
     "text": [
      "Wavelengths \n",
      " [654.24015284 486.4709621  434.40204007 410.90916514]\n"
     ]
    }
   ],
   "source": [
    "## Measured angles\n",
    "theta = np.array([2.6773, 2.7324, 2.7651, 2.7846])  # Red, green, blue, violet\n",
    "\n",
    "wavelengths = np.array([])  # Wavelengths\n",
    "\n",
    "## Get the measured wavelengths from the angles\n",
    "for i in range(0, 4):\n",
    "    wavelengths = np.append(wavelengths, getLambda(theta[i], th0, meanA, meanB))  # Wavelengths\n",
    "\n",
    "print(\"Wavelengths \\n\", wavelengths)\n",
    "\n",
    "# Prepare graph creation for the fit for R_H\n",
    "j = 2  # Energy level 2 of hydrogen, letter n already occupied\n",
    "xaxis = np.array([])\n",
    "for i in range(3, 7):\n",
    "    #xaxis = np.append(xaxis, 1./(j**2) - 1./(i**2))  # Array with x coordinates\n",
    "    xaxis = np.append(xaxis,i)"
   ]
  },
  {
   "cell_type": "code",
   "execution_count": 15,
   "metadata": {},
   "outputs": [],
   "source": [
    "can = ROOT.TCanvas()\n",
    "can.Divide(2, 2)\n",
    "\n",
    "# Consider only errors on the angles th_i\n",
    "can.cd(1)\n",
    "can.SetTitle(\"Rydberg Constant\")\n",
    "gr = ROOT.TGraphErrors()\n",
    "gr.SetTitle(\"Errors on the angles\")\n",
    "#gr.GetXaxis().SetTitle(\"#frac{1}{n^{2}} - #frac{1}{m^{2}}\")\n",
    "#gr.GetYaxis().SetTitle(\"1/#lambda\")\n",
    "\n",
    "gr.GetXaxis().SetTitle(\"m\")\n",
    "gr.GetYaxis().SetTitle(\"#lambda\")"
   ]
  },
  {
   "cell_type": "code",
   "execution_count": 16,
   "metadata": {},
   "outputs": [
    {
     "name": "stdout",
     "output_type": "stream",
     "text": [
      "\n",
      "****************************************\n",
      "Minimizer is Minuit / Migrad\n",
      "Chi2                      =      4.43372\n",
      "NDf                       =            3\n",
      "Edm                       =  1.69453e-08\n",
      "NCalls                    =           24\n",
      "n                         =            2                      \t (fixed)\n",
      "Rh                        =    0.0109786   +/-   1.32007e-05 \n"
     ]
    }
   ],
   "source": [
    "sigmaY = np.array([])  # Array with errors on y\n",
    "for i in range(0, 4):\n",
    "\n",
    "    # Calculate the error on the wavelength\n",
    "    sigmaY = np.append(sigmaY, getLambda(theta[i] + sigmath, th0, meanA, meanB) - wavelengths[i])\n",
    "\n",
    "    # Set the point in the graph\n",
    "    gr.SetPoint(i, xaxis[i], wavelengths[i])\n",
    "    gr.SetPointError(i, 0, sigmaY[i])\n",
    "\n",
    "gr.Draw(\"AP\")\n",
    "\n",
    "# Define function for the Rydberg constant\n",
    "f = ROOT.TF1(\"f\",\"1/([1]*(1/[0]^2-1/x^2))\",0,10)\n",
    "\n",
    "# Set parameters for the fit function\n",
    "f.SetParName(1,\"Rh\")    # Rydberg constant\n",
    "f.SetParName(0,\"n\")     # Principal quantum number\n",
    "f.FixParameter(0,2)     # Fix n to 2 for the second energy level\n",
    "f.SetParameter(1,0.01)  # Initial guess for Rydberg constant\n",
    "\n",
    "# Fit the graph\n",
    "gr.Fit(\"f\")\n",
    "\n",
    "# get the fit parameters and their errors\n",
    "Rh_angoli = f.GetParameter(1)\n",
    "sigmaRh_angoli = f.GetParError(1)"
   ]
  },
  {
   "cell_type": "code",
   "execution_count": 17,
   "metadata": {},
   "outputs": [],
   "source": [
    "# Errors on A, B, and th0\n",
    "grA = ROOT.TGraphErrors()\n",
    "grB = ROOT.TGraphErrors()\n",
    "grTh0 = ROOT.TGraphErrors()\n",
    "\n",
    "# loop on the wavelengths\n",
    "for i in range(0, 4):\n",
    "\n",
    "    # Calculate the errors on A, B, and th0\n",
    "    sigmaYA = getLambda(theta[i], th0, meanA + sigmaA, meanB) - wavelengths[i]\n",
    "    sigmaYB = getLambda(theta[i], th0, meanA, meanB + sigmaB) - wavelengths[i]\n",
    "    sigmaYth0 = getLambda(theta[i], th0 + sigmath, meanA, meanB) - wavelengths[i]\n",
    "\n",
    "    # Fill the graphs with the errors\n",
    "    grA.SetPoint(i, xaxis[i], getLambda(theta[i], th0, meanA + sigmaA, meanB))\n",
    "    grA.SetPointError(i, 0, sigmaYA)\n",
    "    grB.SetPoint(i, xaxis[i], getLambda(theta[i], th0, meanA, meanB + sigmaB))\n",
    "    grB.SetPointError(i, 0, sigmaYB)\n",
    "    grTh0.SetPoint(i, xaxis[i], getLambda(theta[i], th0 + sigmath, meanA, meanB))\n",
    "    grTh0.SetPointError(i, 0, sigmaYth0)"
   ]
  },
  {
   "cell_type": "code",
   "execution_count": 18,
   "metadata": {},
   "outputs": [
    {
     "name": "stdout",
     "output_type": "stream",
     "text": [
      " FCN=0.13331 FROM MIGRAD    STATUS=CONVERGED      15 CALLS          16 TOTAL\n",
      "                     EDM=4.88545e-07    STRATEGY= 1      ERROR MATRIX ACCURATE \n",
      "  EXT PARAMETER                                   STEP         FIRST   \n",
      "  NO.   NAME      VALUE            ERROR          SIZE      DERIVATIVE \n",
      "   1  n            2.00000e+00     fixed    \n",
      "   2  Rh           1.09336e-02   1.41201e-05   7.33860e-09   7.00053e+01\n",
      " FCN=2.98323 FROM MIGRAD    STATUS=CONVERGED      15 CALLS          16 TOTAL\n",
      "                     EDM=3.98196e-10    STRATEGY= 1      ERROR MATRIX ACCURATE \n",
      "  EXT PARAMETER                                   STEP         FIRST   \n",
      "  NO.   NAME      VALUE            ERROR          SIZE      DERIVATIVE \n",
      "   1  n            2.00000e+00     fixed    \n",
      "   2  Rh           1.09467e-02   1.18798e-05   1.15769e-08  -2.37549e+00\n",
      " FCN=2.47757 FROM MIGRAD    STATUS=CONVERGED      12 CALLS          13 TOTAL\n",
      "                     EDM=3.4775e-07    STRATEGY= 1      ERROR MATRIX ACCURATE \n",
      "  EXT PARAMETER                                   STEP         FIRST   \n",
      "  NO.   NAME      VALUE            ERROR          SIZE      DERIVATIVE \n",
      "   1  n            2.00000e+00     fixed    \n",
      "   2  Rh           1.09496e-02   5.50860e-06   5.22116e-09  -1.51393e+02\n"
     ]
    },
    {
     "data": {
      "image/png": "[encoded data removed]",
      "text/plain": [
       "<IPython.core.display.Image object>"
      ]
     },
     "metadata": {},
     "output_type": "display_data"
    }
   ],
   "source": [
    "## Draw the graphs with errors\n",
    "\n",
    "# errors on A\n",
    "can.cd(2)\n",
    "grA.SetTitle(\"Errors on A\")\n",
    "grA.GetXaxis().SetTitle(\"m\")\n",
    "grA.GetYaxis().SetTitle(\"#lambda\")\n",
    "grA.Draw(\"AP\")\n",
    "grA.Fit(\"f\")\n",
    "RhA = f.GetParameter(1)\n",
    "sigmaRh_A = f.GetParError(1)\n",
    "\n",
    "## errors on B\n",
    "can.cd(3)\n",
    "grB.SetTitle(\"Errors on B\")\n",
    "grB.GetXaxis().SetTitle(\"m\")\n",
    "grB.GetYaxis().SetTitle(\"#lambda\")\n",
    "grB.Draw(\"AP\")\n",
    "grB.Fit(\"f\")\n",
    "RhB = f.GetParameter(1)\n",
    "sigmaRh_B = f.GetParError(1)\n",
    "\n",
    "# errors on th0\n",
    "can.cd(4)\n",
    "grTh0.SetTitle(\"Errors on #theta_{0}\")\n",
    "grTh0.GetXaxis().SetTitle(\"m\")\n",
    "grTh0.GetYaxis().SetTitle(\"#lambda\")\n",
    "grTh0.Draw(\"AP\")\n",
    "\n",
    "# Fit the graph\n",
    "grTh0.Fit(\"f\")\n",
    "\n",
    "can.Draw()\n",
    "\n",
    "# Get the Rydberg constant from the fit\n",
    "RhTh0 = f.GetParameter(1)\n",
    "sigmaRh_th0 = f.GetParError(1)\n"
   ]
  },
  {
   "cell_type": "markdown",
   "metadata": {},
   "source": [
    "# Calculate the total error on the Rydberg constant\n"
   ]
  },
  {
   "cell_type": "code",
   "execution_count": 19,
   "metadata": {},
   "outputs": [
    {
     "name": "stdout",
     "output_type": "stream",
     "text": [
      "\n",
      "\n",
      "------------------------\n",
      "\n",
      "\n",
      "Contribution from AB =  2.296074596976457e-05\n",
      "Contribution from th0 =  2.9085832108012577e-05\n",
      "Contribution from th_i=  1.3200721620426356e-05\n",
      "Best estimate for Rydberg Constant =  0.010978643672407808 +/- 3.933752071754837e-05\n"
     ]
    }
   ],
   "source": [
    "# Calculate the total error on the Rydberg constant\n",
    "sigmaRh_AB=sqrt((Rh_angoli-RhA)**2+(Rh_angoli-RhB)**2+2*corrAB*(RhA-Rh_angoli)*(RhB-Rh_angoli))\n",
    "sigmaRh_Tot=sqrt(sigmaRh_angoli**2+sigmaRh_AB**2+(RhTh0-Rh_angoli)**2)\n",
    "\n",
    "print(\"\\n\")\n",
    "print(\"------------------------\")\n",
    "print(\"\\n\")\n",
    "\n",
    "print(\"Contribution from AB = \", sigmaRh_AB)\n",
    "print(\"Contribution from th0 = \", abs(RhTh0 - Rh_angoli) )\n",
    "print(\"Contribution from th_i = \", sigmaRh_angoli )\n",
    "\n",
    "print(\"Best estimate for Rydberg Constant = \", Rh_angoli, \"+/-\", sigmaRh_Tot )"
   ]
  },
  {
   "cell_type": "code",
   "execution_count": null,
   "metadata": {},
   "outputs": [],
   "source": []
  }
 ],
 "metadata": {
  "kernelspec": {
   "display_name": "cernroot",
   "language": "python",
   "name": "python3"
  },
  "language_info": {
   "codemirror_mode": {
    "name": "ipython",
    "version": 3
   },
   "file_extension": ".py",
   "mimetype": "text/x-python",
   "name": "python",
   "nbconvert_exporter": "python",
   "pygments_lexer": "ipython3",
   "version": "3.11.6"
  }
 },
 "nbformat": 4,
 "nbformat_minor": 2
}
