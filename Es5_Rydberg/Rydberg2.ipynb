{
 "cells": [
  {
   "cell_type": "markdown",
   "metadata": {},
   "source": [
    "# 🔬 Estimation of the Rydberg Constant ($R_H$)\n",
    "\n",
    "This notebook computes the Rydberg constant **R_H** using the values of A and B obtained from the previous simulation. It applies the known quantum energy level transitions of hydrogen and propagates the uncertainties analytically.\n",
    "\n",
    "- **Inputs**:\n",
    "  - Values of A and B with uncertainties\n",
    "  - Hydrogen line wavelengths (λₐ, λ_b)\n",
    "  - Quantum numbers: n₁ = 2, n₂ = 3 (H-alpha), n₂ = 4 (H-beta)\n",
    "\n",
    "- **Output**:\n",
    "  - Estimated value of R_H with uncertainty\n",
    "\n",
    "Use this notebook to evaluate how experimental uncertainties affect the determination of fundamental constants.\n"
   ]
  },
  {
   "cell_type": "markdown",
   "metadata": {},
   "source": [
    "## 🧠 Theoretical Background: The Rydberg Constant\n",
    "\n",
    "The **Rydberg constant** \\( R_H \\) is a fundamental physical constant that describes the wavelengths of spectral lines in hydrogen and hydrogen-like atoms. It appears in the **Rydberg formula**, which gives the inverse of the wavelength $$ \\lambda $$ of emitted or absorbed light as an electron transitions between energy levels:\n",
    "\n",
    "$\n",
    "\\frac{1}{\\lambda} = R_H \\left( \\frac{1}{n_1^2} - \\frac{1}{n_2^2} \\right)\n",
    "$\n",
    "\n",
    "where:\n",
    "- $ \\lambda $ is the wavelength of the spectral line,\n",
    "- $ n_1 $ and $ n_2 $$ are the principal quantum numbers of the energy levels involved ($ n_2 > n_1 $),\n",
    "- $ R_H $ is the Rydberg constant for hydrogen.\n",
    "\n",
    "### Value and Importance\n",
    "The currently accepted CODATA value is:\n",
    "\n",
    "$\n",
    "R_H \\approx 1.0967757 \\times 10^7 \\, \\text{m}^{-1}\n",
    "$\n",
    "\n",
    "This constant is central to atomic physics and quantum mechanics, as it encapsulates the binding energy structure of hydrogen. Precise determination of $ R_H $ allows experimental tests of quantum electrodynamics (QED), and contributes to defining other constants like the fine-structure constant $ \\alpha $.\n",
    "\n",
    "In this notebook, we estimate $ R_H $ by inverting the Rydberg formula using measured wavelengths for the Balmer series (H-alpha and H-beta) and the parameters A and B previously obtained from diffraction measurements.\n"
   ]
  },
  {
   "cell_type": "code",
   "execution_count": 11,
   "metadata": {},
   "outputs": [],
   "source": [
    "from   ROOT import TCanvas, TF1, TGraphErrors, TRandom3\n",
    "from   math import *\n",
    "import numpy as np\n",
    "import time "
   ]
  },
  {
   "cell_type": "code",
   "execution_count": 12,
   "metadata": {},
   "outputs": [],
   "source": [
    "#Parametri e misure\n",
    "\n",
    "meanA = 1.7298\n",
    "sigmaA = 0.0003\n",
    "meanB = 13462\n",
    "sigmaB = 58\n",
    "corrAB = -0.876\n",
    "th0 = 1.5701\n",
    "\n",
    "alpha   = pi/3\n",
    "\n",
    "eth     = 0.0005\n",
    "sigmath = eth/sqrt(3)\n",
    "\n",
    "#Funzioni \n",
    "\n",
    "def getLambda(theta,th0,A,B):\n",
    "\tn=sin((theta-th0+alpha)/2)/sin(alpha/2)\t\t##refraction indexes\n",
    "\tl=sqrt(B/(n-A))\n",
    "\treturn l\t"
   ]
  },
  {
   "cell_type": "code",
   "execution_count": 13,
   "metadata": {},
   "outputs": [
    {
     "name": "stdout",
     "output_type": "stream",
     "text": [
      "wavelenghts \n",
      "\n"
     ]
    }
   ],
   "source": [
    "#Main\n",
    "\n",
    "theta=np.array([2.6773,2.7324,2.7651,2.7846]) ##red green blue violet\n",
    "\n",
    "#n=np.array([])\n",
    "l=np.array([])\n",
    "\n",
    "\n",
    "for i in range(0,4):\n",
    "\t#n=np.append(n,sin((theta[i]-th0+alpha)/2)/sin(alpha/2))\t\t##refraction indexes\t\t\t\t\t\n",
    "\tl=np.append(l,getLambda(theta[i],th0,meanA,meanB))\t\t\t\t\t##wavelenghts\n",
    "\n",
    "##print(\"refraction indexes \\n\"), n\n",
    "print(\"wavelenghts \\n\"), l\n",
    "\n",
    "##preparo creazione del grafico per il fit per R_H\n",
    "\n",
    "j=2\t\t\t\t\t##livello energetico 2 dell'idrogeno, lettera n gia occupata\n",
    "xaxis=np.array([3,4,5,6])\t\t##array con le coord x\n",
    "\n",
    "can=TCanvas()\n",
    "can.Divide(2,2)"
   ]
  },
  {
   "cell_type": "code",
   "execution_count": 14,
   "metadata": {},
   "outputs": [
    {
     "name": "stdout",
     "output_type": "stream",
     "text": [
      "\n",
      "****************************************\n",
      "Minimizer is Minuit / Migrad\n",
      "Chi2                      =      4.72129\n",
      "NDf                       =            3\n",
      "Edm                       =  1.75561e-08\n",
      "NCalls                    =           24\n",
      "n                         =            2                      \t (fixed)\n",
      "Rh                        =    0.0109808   +/-   1.36274e-05 \n"
     ]
    }
   ],
   "source": [
    "##considero solo errori sugli angoli th_i\n",
    "can.cd(1)\n",
    "can.SetTitle(\"Costante di Rydberg\")\n",
    "gr\t= TGraphErrors ()\t\t\t\t\t\t\n",
    "gr.SetTitle(\"errori sugli angoli #theta_{i}\")\n",
    "gr.GetXaxis().SetTitle(\"m\")\n",
    "gr.GetYaxis().SetTitle(\"#lambda\")\n",
    "\n",
    "sigmaY=np.array([])\t\t\t\t\t\t##array con gli errori su y\n",
    "for i in range(0,4):\n",
    "\tsigmaY=np.append(sigmaY,getLambda(theta[i]+sigmath,th0,meanA,meanB)-l[i])\n",
    "\n",
    "\tgr.SetPoint(i,xaxis[i],l[i])\n",
    "\tgr.SetPointError(i,0,sigmaY[i])\n",
    "\n",
    "\n",
    "gr.Draw(\"AP\");\t\n",
    "f=TF1(\"f\",\"1/([1]*(1/[0]^2-1/x^2))\",0,10)\n",
    "f.SetParName(1,\"Rh\")\n",
    "f.SetParName(0,\"n\")\n",
    "f.FixParameter(0,2)\n",
    "f.SetParameter(1,0.01)\n",
    "gr.Fit(\"f\")\n",
    "Rh_angoli=f.GetParameter(1)\n",
    "sigmaRh_angoli=f.GetParError(1)"
   ]
  },
  {
   "cell_type": "code",
   "execution_count": 15,
   "metadata": {},
   "outputs": [
    {
     "name": "stdout",
     "output_type": "stream",
     "text": [
      " FCN=0.206556 FROM MIGRAD    STATUS=CONVERGED      15 CALLS          16 TOTAL\n",
      "                     EDM=4.71799e-07    STRATEGY= 1      ERROR MATRIX ACCURATE \n",
      "  EXT PARAMETER                                   STEP         FIRST   \n",
      "  NO.   NAME      VALUE            ERROR          SIZE      DERIVATIVE \n",
      "   1  n            2.00000e+00     fixed    \n",
      "   2  Rh           1.09370e-02   1.31166e-05   7.03396e-09   7.40582e+01\n",
      " FCN=3.24722 FROM MIGRAD    STATUS=CONVERGED      15 CALLS          16 TOTAL\n",
      "                     EDM=2.11631e-10    STRATEGY= 1      ERROR MATRIX ACCURATE \n",
      "  EXT PARAMETER                                   STEP         FIRST   \n",
      "  NO.   NAME      VALUE            ERROR          SIZE      DERIVATIVE \n",
      "   1  n            2.00000e+00     fixed    \n",
      "   2  Rh           1.09488e-02   1.17550e-05   1.18288e-08  -1.75017e+00\n",
      " FCN=2.6885 FROM MIGRAD    STATUS=CONVERGED      12 CALLS          13 TOTAL\n",
      "                     EDM=1.37703e-07    STRATEGY= 1      ERROR MATRIX ACCURATE \n",
      "  EXT PARAMETER                                   STEP         FIRST   \n",
      "  NO.   NAME      VALUE            ERROR          SIZE      DERIVATIVE \n",
      "   1  n            2.00000e+00     fixed    \n",
      "   2  Rh           1.09511e-02   5.50804e-06   5.22188e-09  -9.52773e+01\n"
     ]
    },
    {
     "data": {
      "image/png": "[encoded data removed]",
      "text/plain": [
       "<IPython.core.display.Image object>"
      ]
     },
     "metadata": {},
     "output_type": "display_data"
    }
   ],
   "source": [
    "##errori su A e B e th0\n",
    "\n",
    "grA\t= TGraphErrors ()\t\n",
    "grB = TGraphErrors ()\t\n",
    "grTh0 = TGraphErrors ()\n",
    "\n",
    "for i in range(0,4):\n",
    "\tsigmaYA=getLambda(theta[i],th0,meanA+sigmaA,meanB)-l[i]\n",
    "\tsigmaYB=getLambda(theta[i],th0,meanA,meanB+sigmaB)-l[i]\n",
    "\tsigmaYth0=getLambda(theta[i],th0+sigmath,meanA,meanB)-l[i]\n",
    "\n",
    "\tgrA.SetPoint(i,xaxis[i],getLambda(theta[i],th0,meanA+sigmaA,meanB))\n",
    "\tgrA.SetPointError(i,0,sigmaYA)\n",
    "\tgrB.SetPoint(i,xaxis[i],getLambda(theta[i],th0,meanA,meanB+sigmaB))\n",
    "\tgrB.SetPointError(i,0,sigmaYB)\n",
    "\tgrTh0.SetPoint(i,xaxis[i],getLambda(theta[i],th0+sigmath,meanA,meanB))\n",
    "\tgrTh0.SetPointError(i,0,sigmaYth0)\n",
    "\n",
    "can.cd(2)\n",
    "grA.SetTitle(\"errori su A\")\n",
    "grA.GetXaxis().SetTitle(\"m\")\n",
    "grA.GetYaxis().SetTitle(\"#lambda\")\n",
    "grA.Draw(\"AP\");\n",
    "grA.Fit(\"f\")\n",
    "RhA=f.GetParameter(1);\n",
    "sigmaRh_A=f.GetParError(1)\n",
    "\n",
    "can.cd(3)\n",
    "grB.SetTitle(\"errori su B\")\n",
    "grB.GetXaxis().SetTitle(\"m\")\n",
    "grB.GetYaxis().SetTitle(\"#lambda\")\n",
    "grB.Draw(\"AP\");\n",
    "grB.Fit(\"f\")\n",
    "RhB=f.GetParameter(1);\n",
    "sigmaRh_B=f.GetParError(1)\n",
    "\n",
    "can.cd(4)\n",
    "grTh0.SetTitle(\"errori su #theta_{0}\")\n",
    "grTh0.GetXaxis().SetTitle(\"m\")\n",
    "grTh0.GetYaxis().SetTitle(\"#lambda\")\n",
    "grTh0.Draw(\"AP\");\n",
    "grTh0.Fit(\"f\")\n",
    "RhTh0=f.GetParameter(1);\n",
    "sigmaRh_th0=f.GetParError(1)\n",
    "can.Draw()"
   ]
  },
  {
   "cell_type": "code",
   "execution_count": 16,
   "metadata": {},
   "outputs": [
    {
     "name": "stdout",
     "output_type": "stream",
     "text": [
      "\n",
      "\n",
      "------------------------\n",
      "\n",
      "\n",
      "contributo da AB =  2.2015812097512503e-05\n",
      "contributo da th0 =  2.9700083182633216e-05\n",
      "contributo da th_i =  1.362735981414785e-05\n",
      "Miglior stima per Costante di Rydberg:  0.01098076575532574 +/- 3.940172405964696e-05\n"
     ]
    }
   ],
   "source": [
    "\n",
    "sigmaRh_AB=sqrt((Rh_angoli-RhA)**2+(Rh_angoli-RhB)**2+2*corrAB*(RhA-Rh_angoli)*(RhB-Rh_angoli))\n",
    "sigmaRh_Tot=sqrt(sigmaRh_angoli**2+sigmaRh_AB**2+(RhTh0-Rh_angoli)**2)\n",
    "\n",
    "print (\"\\n\")\n",
    "print (\"------------------------\")\n",
    "print (\"\\n\")\n",
    "\n",
    "\n",
    "print (\"contributo da AB = \", sigmaRh_AB)\n",
    "print (\"contributo da th0 = \", abs(RhTh0-Rh_angoli))\n",
    "print (\"contributo da th_i = \", sigmaRh_angoli)\n",
    "\n",
    "\n",
    "print (\"Miglior stima per Costante di Rydberg: \", Rh_angoli,(\"+/-\"),sigmaRh_Tot)"
   ]
  },
  {
   "cell_type": "code",
   "execution_count": null,
   "metadata": {},
   "outputs": [],
   "source": []
  }
 ],
 "metadata": {
  "kernelspec": {
   "display_name": "cernroot",
   "language": "python",
   "name": "python3"
  },
  "language_info": {
   "codemirror_mode": {
    "name": "ipython",
    "version": 3
   },
   "file_extension": ".py",
   "mimetype": "text/x-python",
   "name": "python",
   "nbconvert_exporter": "python",
   "pygments_lexer": "ipython3",
   "version": "3.11.6"
  }
 },
 "nbformat": 4,
 "nbformat_minor": 2
}
