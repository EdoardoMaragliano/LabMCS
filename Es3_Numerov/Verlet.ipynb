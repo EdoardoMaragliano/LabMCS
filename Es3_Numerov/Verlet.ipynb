{
 "cells": [
  {
   "cell_type": "markdown",
   "metadata": {},
   "source": [
    "# 🧮 Solving a Second-Order ODE using the Verlet Method\n",
    "\n",
    "This notebook demonstrates how to numerically solve a second-order ordinary differential equation (ODE) using the **Verlet method**, a simple and efficient finite difference scheme of second-order accuracy.\n",
    "\n",
    "---\n",
    "\n",
    "## 📘 The Equation\n",
    "\n",
    "We want to solve the ODE:\n",
    "\n",
    "$\n",
    "\\frac{d^2 f}{dx^2} = f \\left( -\\frac{1}{\\sigma^2} + \\frac{x^2}{\\sigma^4} \\right)\n",
    "$\n",
    "\n",
    "This equation appears in physics contexts like the 1D quantum harmonic oscillator (without the energy eigenvalue term), and it admits Gaussian-like or Hermite-function solutions.\n",
    "\n",
    "We rewrite the right-hand side as:\n",
    "\n",
    "$\n",
    "a(f, x) = f \\left( -\\frac{1}{\\sigma^2} + \\frac{x^2}{\\sigma^4} \\right)\n",
    "$\n",
    "\n",
    "---\n",
    "\n",
    "## 🧩 Discretization with the Verlet Scheme\n",
    "\n",
    "To solve the equation numerically, we discretize the second derivative using the **Verlet (central difference) method**:\n",
    "\n",
    "$\n",
    "f_{i} = 2f_{i-1} - f_{i-2} + h^2 \\cdot a(f_{i-1}, x_{i-1})\n",
    "$\n",
    "\n",
    "This explicit update rule propagates the solution forward (or backward) starting from two initial values.\n",
    "\n",
    "```python\n",
    "def a(sigma, f, x):\n",
    "    return -f / (sigma**2) + (x**2 / sigma**4) * f\n",
    "\n",
    "def soleq(n1, n2, sigma):\n",
    "    j = np.sign(n2 - n1)  # direction of propagation (+1 or -1)\n",
    "    f = np.array(x)       # initialize with a copy of x, will hold f(x)\n",
    "    f[n1] = 0             # initial condition: f = 0 at first point\n",
    "    f[n1 + j] = 1e-6      # small nonzero value to bootstrap the recursion\n",
    "\n",
    "    for i in range(n1 + 2 * j, n2 + j, j):\n",
    "        f[i] = (2 * f[i - j] - f[i - 2 * j] +\n",
    "                h**2 * a(sigma, f[i - j], x[i - j]))\n",
    "    return f\n"
   ]
  },
  {
   "cell_type": "code",
   "execution_count": 1,
   "metadata": {},
   "outputs": [],
   "source": [
    "import matplotlib.pyplot as plt\n",
    "import numpy as np"
   ]
  },
  {
   "cell_type": "code",
   "execution_count": 2,
   "metadata": {},
   "outputs": [],
   "source": [
    "# Define the source term in the second-order differential equation\n",
    "# This corresponds to: a(f, x) = f * (-1/σ² + x²/σ⁴)\n",
    "def a(sigma, f, x):\n",
    "    return -f / (sigma**2) + (x**2 / sigma**4) * f"
   ]
  },
  {
   "cell_type": "code",
   "execution_count": 3,
   "metadata": {},
   "outputs": [],
   "source": [
    "# Function to solve the differential equation using a finite difference method\n",
    "# Similar in structure to the Numerov method (second-order accurate)\n",
    "def soleq(n1, n2, sigma):\n",
    "    j = np.sign(n2 - n1)  # Direction of integration (+1 or -1)\n",
    "\n",
    "    # Initialize the solution array f as a copy of x\n",
    "    f = np.array(x)\n",
    "\n",
    "    # Set initial conditions for the recursive method\n",
    "    f[n1] = 0               # First point\n",
    "    f[n1 + j] = 1e-6        # Small non-zero second point to start recurrence\n",
    "\n",
    "    # Recursive computation using finite difference method\n",
    "    # f(i) = 2*f(i-j) - f(i-2j) + h² * a(f, x)\n",
    "    for i in range(n1 + 2 * j, n2 + j, j):\n",
    "        f[i] = (2 * f[i - j] - f[i - 2 * j] +\n",
    "                h * h * a(sigma, f[i - j], x[i - j]))\n",
    "\n",
    "    return f\n"
   ]
  },
  {
   "cell_type": "code",
   "execution_count": 4,
   "metadata": {},
   "outputs": [
    {
     "data": {
      "image/png": "[encoded data removed]",
      "text/plain": [
       "<Figure size 640x480 with 1 Axes>"
      ]
     },
     "metadata": {},
     "output_type": "display_data"
    }
   ],
   "source": [
    "n = 10000                          # Number of grid points\n",
    "x = np.linspace(-5., 5., n)       # Create x values from -5 to +5\n",
    "h = x[1] - x[0]                   # Step size\n",
    "\n",
    "# Solve the differential equation from right (9999) to left (0)\n",
    "# with sigma = 1\n",
    "f = soleq(9999, 0, sigma=1)\n",
    "\n",
    "# Plot the resulting function f(x)\n",
    "plt.plot(x, f, 'r.', markersize=1)\n",
    "plt.xlabel(\"x\")\n",
    "plt.ylabel(\"f(x)\")\n",
    "plt.title(\"Numerical solution of a second-order ODE\")\n",
    "plt.grid(True)\n",
    "plt.show()"
   ]
  },
  {
   "cell_type": "code",
   "execution_count": null,
   "metadata": {},
   "outputs": [],
   "source": []
  }
 ],
 "metadata": {
  "kernelspec": {
   "display_name": "BAOFit",
   "language": "python",
   "name": "python3"
  },
  "language_info": {
   "codemirror_mode": {
    "name": "ipython",
    "version": 3
   },
   "file_extension": ".py",
   "mimetype": "text/x-python",
   "name": "python",
   "nbconvert_exporter": "python",
   "pygments_lexer": "ipython3",
   "version": "3.10.13"
  }
 },
 "nbformat": 4,
 "nbformat_minor": 2
}
